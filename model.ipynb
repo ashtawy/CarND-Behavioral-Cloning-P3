{
 "cells": [
  {
   "cell_type": "code",
   "execution_count": 12,
   "metadata": {
    "collapsed": true
   },
   "outputs": [],
   "source": [
    "import numpy as np\n",
    "import pandas as pd\n",
    "import cv2\n",
    "from keras.models import Sequential\n",
    "from keras.layers import Dense, Flatten, Lambda, Cropping2D\n",
    "from keras.layers.convolutional import Convolution2D\n",
    "from keras.layers.pooling import MaxPooling2D\n",
    "import matplotlib\n",
    "%matplotlib inline"
   ]
  },
  {
   "cell_type": "code",
   "execution_count": 2,
   "metadata": {
    "collapsed": true
   },
   "outputs": [],
   "source": [
    "# Read the driving log data\n",
    "driving_log = pd.read_csv('data/driving_log.csv')"
   ]
  },
  {
   "cell_type": "code",
   "execution_count": 8,
   "metadata": {
    "collapsed": true
   },
   "outputs": [],
   "source": [
    "# loop through the Pandas dataframe and read the images whose paths\n",
    "# are the rows of the dataframe.\n",
    "images = []\n",
    "measurements = []\n",
    "correction = 0.2\n",
    "for i in range(driving_log.shape[0]):\n",
    "    center_image = cv2.imread(('data/'+driving_log['center'].iloc[i]).replace(' ', ''))\n",
    "    left_image = cv2.imread(('data/'+driving_log['left'].iloc[i]).replace(' ', ''))\n",
    "    right_image = cv2.imread(('data/'+driving_log['right'].iloc[i]).replace(' ', ''))\n",
    "    center_steering_angle = driving_log['steering'].iloc[i]\n",
    "    left_steering_angle = center_steering_angle + correction\n",
    "    right_steering_angle = center_steering_angle - correction\n",
    "    images.extend([center_image, np.fliplr(center_image.copy()), \n",
    "                  left_image,\n",
    "                  right_image])\n",
    "    measurements.extend([center_steering_angle, -center_steering_angle,\n",
    "                        left_steering_angle,\n",
    "                        right_steering_angle])"
   ]
  },
  {
   "cell_type": "code",
   "execution_count": 9,
   "metadata": {
    "collapsed": true
   },
   "outputs": [],
   "source": [
    "# Convert the lists to numpy arrays\n",
    "X_train = np.array(images)\n",
    "y_train = np.array(measurements)"
   ]
  },
  {
   "cell_type": "code",
   "execution_count": 10,
   "metadata": {
    "collapsed": false
   },
   "outputs": [
    {
     "data": {
      "text/plain": [
       "(32144, 160, 320, 3)"
      ]
     },
     "execution_count": 10,
     "metadata": {},
     "output_type": "execute_result"
    }
   ],
   "source": [
    "# Print the number of images and their dimenstions & number of channels\n",
    "print(X_train.shape)"
   ]
  },
  {
   "cell_type": "code",
   "execution_count": 13,
   "metadata": {
    "collapsed": false
   },
   "outputs": [
    {
     "name": "stdout",
     "output_type": "stream",
     "text": [
      "Train on 25715 samples, validate on 6429 samples\n",
      "Epoch 1/10\n",
      "25715/25715 [==============================] - 69s - loss: 0.0309 - val_loss: 0.0193\n",
      "Epoch 2/10\n",
      "25715/25715 [==============================] - 67s - loss: 0.0153 - val_loss: 0.0182\n",
      "Epoch 3/10\n",
      "25715/25715 [==============================] - 52s - loss: 0.0143 - val_loss: 0.0199\n",
      "Epoch 4/10\n",
      "25715/25715 [==============================] - 52s - loss: 0.0139 - val_loss: 0.0186\n",
      "Epoch 5/10\n",
      "25715/25715 [==============================] - 52s - loss: 0.0132 - val_loss: 0.0214\n",
      "Epoch 6/10\n",
      "25715/25715 [==============================] - 52s - loss: 0.0130 - val_loss: 0.0178\n",
      "Epoch 7/10\n",
      "25715/25715 [==============================] - 52s - loss: 0.0127 - val_loss: 0.0178\n",
      "Epoch 8/10\n",
      "25715/25715 [==============================] - 57s - loss: 0.0124 - val_loss: 0.0185\n",
      "Epoch 9/10\n",
      "25715/25715 [==============================] - 71s - loss: 0.0122 - val_loss: 0.0183\n",
      "Epoch 10/10\n",
      "25715/25715 [==============================] - 72s - loss: 0.0120 - val_loss: 0.0186\n"
     ]
    }
   ],
   "source": [
    "# Construct the model\n",
    "model = Sequential()\n",
    "model.add(Lambda(lambda x: (x/255.0) - 0.5, input_shape=(160, 320, 3)))\n",
    "model.add(Cropping2D(cropping=((70,25), (0,0))))\n",
    "model.add(Convolution2D(6, 5, 5, activation='relu'))\n",
    "model.add(MaxPooling2D())\n",
    "model.add(Convolution2D(6, 5, 5, activation='relu'))\n",
    "model.add(MaxPooling2D())\n",
    "model.add(Flatten())\n",
    "model.add(Dense(120))\n",
    "model.add(Dense(84))\n",
    "model.add(Dense(1))\n",
    "# Compile, fit and save the model\n",
    "model.compile(loss='mse', optimizer='adam')\n",
    "model.fit(X_train, y_train, validation_split=0.2, shuffle=True, nb_epoch=10)\n",
    "model.save('model.h5')"
   ]
  }
 ],
 "metadata": {
  "anaconda-cloud": {},
  "kernelspec": {
   "display_name": "Python [default]",
   "language": "python",
   "name": "python3"
  },
  "language_info": {
   "codemirror_mode": {
    "name": "ipython",
    "version": 3
   },
   "file_extension": ".py",
   "mimetype": "text/x-python",
   "name": "python",
   "nbconvert_exporter": "python",
   "pygments_lexer": "ipython3",
   "version": "3.5.2"
  }
 },
 "nbformat": 4,
 "nbformat_minor": 2
}
